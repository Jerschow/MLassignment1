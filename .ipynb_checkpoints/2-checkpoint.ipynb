{
 "cells": [
  {
   "cell_type": "code",
   "execution_count": 39,
   "metadata": {},
   "outputs": [
    {
     "data": {
      "image/png": "[encoded data removed]",
      "text/plain": [
       "<Figure size 432x288 with 1 Axes>"
      ]
     },
     "metadata": {
      "needs_background": "light"
     },
     "output_type": "display_data"
    }
   ],
   "source": [
    "import numpy as np\n",
    "import matplotlib.pyplot as plt\n",
    "%matplotlib inline\n",
    "\n",
    "x = np.linspace(0,5,10)\n",
    "\n",
    "noise = np.random.normal(0,.3,len(x))\n",
    "beta_true = np.random.normal(0,1,2)\n",
    "\n",
    "t = beta_true[0] + beta_true[1]*x\n",
    "\n",
    "tnoisy = t+noise\n",
    "\n",
    "plt.scatter(x, tnoisy, c='r')\n",
    "plt.plot(x, t)\n",
    "plt.show()"
   ]
  },
  {
   "cell_type": "code",
   "execution_count": 37,
   "metadata": {},
   "outputs": [
    {
     "data": {
      "text/plain": [
       "array([[-0.20861992],\n",
       "       [ 0.73728308]])"
      ]
     },
     "execution_count": 37,
     "metadata": {},
     "output_type": "execute_result"
    }
   ],
   "source": [
    "xtilde = np.insert(x.reshape(-1,1),0,np.ones(len(x)),axis=1)\n",
    "bols = np.matmul(np.linalg.inv(np.matmul(xtilde.T,xtilde)),np.matmul(xtilde.T,tnoisy.reshape(-1,1)))"
   ]
  },
  {
   "cell_type": "code",
   "execution_count": null,
   "metadata": {},
   "outputs": [],
   "source": [
    "t = beta_true[0] + beta_true[1]*x\n",
    "\n",
    "tnoisy = t+noise\n",
    "\n",
    "plt.scatter(x, tnoisy, c='r')\n",
    "plt.plot(x, t)\n",
    "plt.plot(x,bols[0] + bols[1] * x)\n",
    "plt.show()"
   ]
  }
 ],
 "metadata": {
  "kernelspec": {
   "display_name": "Python 3",
   "language": "python",
   "name": "python3"
  },
  "language_info": {
   "codemirror_mode": {
    "name": "ipython",
    "version": 3
   },
   "file_extension": ".py",
   "mimetype": "text/x-python",
   "name": "python",
   "nbconvert_exporter": "python",
   "pygments_lexer": "ipython3",
   "version": "3.7.8"
  }
 },
 "nbformat": 4,
 "nbformat_minor": 4
}
